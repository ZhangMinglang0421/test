{
 "cells": [
  {
   "cell_type": "markdown",
   "id": "bb371ea1",
   "metadata": {},
   "source": [
    "## 3a"
   ]
  },
  {
   "cell_type": "code",
   "execution_count": 1,
   "id": "7fbda0e9",
   "metadata": {},
   "outputs": [
    {
     "name": "stdout",
     "output_type": "stream",
     "text": [
      "10\n"
     ]
    }
   ],
   "source": [
    "class NDArray:\n",
    "    def __init__(self, shape, default_value=0):\n",
    "        self.shape = shape\n",
    "        self.data = self._create_ndarray(shape, default_value)\n",
    "    \n",
    "    def _create_ndarray(self, shape, default_value, level=0):\n",
    "        if level == len(shape) - 1:\n",
    "            return [default_value for _ in range(shape[level])]\n",
    "        else:\n",
    "            return [self._create_ndarray(shape, default_value, level + 1) for _ in range(shape[level])]\n",
    "    \n",
    "    def set_item(self, index, value):\n",
    "        self._set_item(self.data, index, value)\n",
    "    \n",
    "    def _set_item(self, data, index, value):\n",
    "        if len(index) == 1:\n",
    "            data[index[0]] = value\n",
    "        else:\n",
    "            self._set_item(data[index[0]], index[1:], value)\n",
    "    \n",
    "    def get_item(self, index):\n",
    "        return self._get_item(self.data, index)\n",
    "    \n",
    "    def _get_item(self, data, index):\n",
    "        if len(index) == 1:\n",
    "            return data[index[0]]\n",
    "        else:\n",
    "            return self._get_item(data[index[0]], index[1:])\n",
    "    \n",
    "    def __repr__(self):\n",
    "        return str(self.data)\n",
    "\n",
    "# e.g\n",
    "ndarray = NDArray(shape=(2, 3, 4)) \n",
    "ndarray.set_item((1, 2, 3), 10)  \n",
    "print(ndarray.get_item((1, 2, 3)))  \n",
    "print(ndarray) "
   ]
  },
  {
   "cell_type": "markdown",
   "id": "7ed57377",
   "metadata": {},
   "source": [
    "## b"
   ]
  },
  {
   "cell_type": "code",
   "execution_count": 2,
   "id": "4aa570d6",
   "metadata": {},
   "outputs": [
    {
     "name": "stdout",
     "output_type": "stream",
     "text": [
      "0\n"
     ]
    }
   ],
   "source": [
    "class NDArray:\n",
    "    def __init__(self, shape, default_value=0):\n",
    "        self.shape = shape\n",
    "        self.data = self._create_ndarray(shape, default_value)\n",
    "    \n",
    "    def _create_ndarray(self, shape, default_value):\n",
    "        if len(shape) == 1:\n",
    "            return [default_value] * shape[0]\n",
    "        else:\n",
    "            return [self._create_ndarray(shape[1:], default_value) for _ in range(shape[0])]\n",
    "    \n",
    "    def __getitem__(self, index):\n",
    "        element = self.data\n",
    "        if not isinstance(index, tuple):\n",
    "            index = (index,)\n",
    "        for idx in index:\n",
    "            element = element[idx]\n",
    "        return element\n",
    "\n",
    "ndarray = NDArray(shape=(2, 3, 4))\n",
    "print(ndarray[1, 2, 3])  "
   ]
  },
  {
   "cell_type": "markdown",
   "id": "fa1af25c",
   "metadata": {},
   "source": [
    "## c"
   ]
  },
  {
   "cell_type": "code",
   "execution_count": 1,
   "id": "94d0aafa",
   "metadata": {},
   "outputs": [],
   "source": [
    "class NDArrayIterator:\n",
    "    def __init__(self, ndarray, index_pattern):\n",
    "        self.ndarray = ndarray\n",
    "        self.index_pattern = index_pattern\n",
    "        self.shape = self._determine_shape(index_pattern)\n",
    "        self.current_index = [0] * len(self.shape)\n",
    "        self.total_steps = self._calculate_total_steps()\n",
    "        self.current_step = 0\n",
    "\n",
    "    def _determine_shape(self, index_pattern):\n",
    "        shape = []\n",
    "        for i, index in enumerate(index_pattern):\n",
    "            if isinstance(index, slice):\n",
    "                start, stop, step = index.indices(self.ndarray.shape[i])\n",
    "                shape.append(len(range(start, stop, step)))\n",
    "            elif isinstance(index, int):\n",
    "                shape.append(1)\n",
    "        return shape\n",
    "\n",
    "    def _calculate_total_steps(self):\n",
    "        total = 1\n",
    "        for size in self.shape:\n",
    "            total *= size\n",
    "        return total\n",
    "\n",
    "    def __iter__(self):\n",
    "        return self\n",
    "\n",
    "    def __next__(self):\n",
    "        if self.current_step >= self.total_steps:\n",
    "            raise StopIteration\n",
    "        result = self.ndarray[tuple(self._calculate_current_index())]\n",
    "        self._increment_index()\n",
    "        self.current_step += 1\n",
    "        return result\n",
    "\n",
    "    def _calculate_current_index(self):\n",
    "        index = []\n",
    "        for i, part in enumerate(self.index_pattern):\n",
    "            if isinstance(part, slice):\n",
    "                index.append(slice(*part.indices(self.ndarray.shape[i]))[self.current_index[i]])\n",
    "            elif isinstance(part, int):\n",
    "                index.append(part)\n",
    "        return index\n",
    "\n",
    "    def _increment_index(self):\n",
    "        for i in range(len(self.current_index) - 1, -1, -1):\n",
    "            if self.current_index[i] < self.shape[i] - 1:\n",
    "                self.current_index[i] += 1\n",
    "                break\n",
    "            else:\n",
    "                self.current_index[i] = 0\n",
    "\n",
    "    def __getitem__(self, step):\n",
    "        if step >= self.total_steps:\n",
    "            raise IndexError(\"Step out of range\")\n",
    "        temp_index = self.current_index[:]\n",
    "        self.current_step = step\n",
    "        for i in range(len(temp_index)):\n",
    "            temp_index[i] = step % self.shape[i]\n",
    "            step //= self.shape[i]\n",
    "        return self.ndarray[tuple(self._calculate_current_index(temp_index))]\n",
    "\n",
    "    def _calculate_current_index(self, temp_index=None):\n",
    "        if temp_index is None:\n",
    "            temp_index = self.current_index\n",
    " "
   ]
  }
 ],
 "metadata": {
  "kernelspec": {
   "display_name": "Python 3",
   "language": "python",
   "name": "python3"
  },
  "language_info": {
   "codemirror_mode": {
    "name": "ipython",
    "version": 3
   },
   "file_extension": ".py",
   "mimetype": "text/x-python",
   "name": "python",
   "nbconvert_exporter": "python",
   "pygments_lexer": "ipython3",
   "version": "3.8.8"
  }
 },
 "nbformat": 4,
 "nbformat_minor": 5
}
